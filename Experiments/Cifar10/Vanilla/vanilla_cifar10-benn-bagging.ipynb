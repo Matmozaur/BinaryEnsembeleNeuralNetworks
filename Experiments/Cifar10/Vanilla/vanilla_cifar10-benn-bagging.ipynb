{
 "cells": [
  {
   "cell_type": "code",
   "execution_count": null,
   "metadata": {},
   "outputs": [],
   "source": [
    "import tensorflow as tf\n",
    "from matplotlib import pyplot\n",
    "from tensorflow.keras.datasets import cifar10\n",
    "from emnist import extract_training_samples\n",
    "from tensorflow.keras import *\n",
    "from tensorflow.keras.layers import *\n",
    "from sklearn.model_selection import train_test_split\n",
    "import numpy as np\n",
    "import matplotlib.pyplot as plt\n",
    "from pprint import pprint\n",
    "import sys\n",
    "import os\n",
    "import json\n",
    "from sklearn.utils import resample\n",
    "\n",
    "sys.path.insert(1, os.path.join(sys.path[0], '../../..'))\n",
    "\n",
    "from utils import *\n",
    "# tf.compat.v1.enable_eager_execution()\n",
    "%matplotlib inline\n",
    "%config Completer.use_jedi = False\n",
    "\n",
    "tf.config.list_physical_devices('GPU')"
   ]
  },
  {
   "cell_type": "code",
   "execution_count": null,
   "metadata": {},
   "outputs": [],
   "source": [
    "(x_train, y_train), (x_test, y_test) = cifar10.load_data()\n",
    "show_dataset(x_train)"
   ]
  },
  {
   "cell_type": "code",
   "execution_count": null,
   "metadata": {},
   "outputs": [],
   "source": [
    "num_classes = 10 \n",
    "\n",
    "mean = np.mean(x_train,axis=(0, 1, 2, 3))\n",
    "std = np.std(x_train, axis=(0, 1, 2, 3))\n",
    "\n",
    "x_train = (x_train-mean)/(std+1e-7)\n",
    "x_test = (x_test-mean)/(std+1e-7)\n",
    "\n",
    "y_train = utils.to_categorical(y_train, num_classes) \n",
    "y_test = utils.to_categorical(y_test, num_classes) "
   ]
  },
  {
   "cell_type": "code",
   "execution_count": null,
   "metadata": {},
   "outputs": [],
   "source": [
    "x_train.shape"
   ]
  },
  {
   "cell_type": "code",
   "execution_count": null,
   "metadata": {},
   "outputs": [],
   "source": [
    "results = {}"
   ]
  },
  {
   "cell_type": "markdown",
   "metadata": {},
   "source": [
    "# Bagging BENN"
   ]
  },
  {
   "cell_type": "code",
   "execution_count": null,
   "metadata": {
    "scrolled": true
   },
   "outputs": [],
   "source": [
    "import tensorflow as tf\n",
    "import larq as lq\n",
    "\n",
    "kwargs = dict(input_quantizer=\"ste_sign\",\n",
    "              kernel_quantizer=\"ste_sign\",\n",
    "              kernel_constraint=\"weight_clip\",\n",
    "              use_bias=False)\n",
    " \n",
    "def get_model():    \n",
    "    model = tf.keras.models.Sequential([\n",
    "        lq.layers.QuantConv2D(32, 3,\n",
    "                              kernel_quantizer=\"ste_sign\",\n",
    "                              kernel_constraint=\"weight_clip\",\n",
    "                              use_bias=False,\n",
    "                              input_shape=(32, 32, 3)),\n",
    "        tf.keras.layers.Activation(\"elu\"),\n",
    "        tf.keras.layers.BatchNormalization(),\n",
    "\n",
    "        lq.layers.QuantConv2D(32, 3, padding=\"same\", **kwargs),\n",
    "        tf.keras.layers.Activation(\"elu\"),\n",
    "        tf.keras.layers.BatchNormalization(),\n",
    "        tf.keras.layers.MaxPool2D(pool_size=(2, 2)),\n",
    "    #     tf.keras.layers.Dropout(0.4),\n",
    "\n",
    "        lq.layers.QuantConv2D(64, 3, padding=\"same\", **kwargs),\n",
    "        tf.keras.layers.Activation(\"elu\"),\n",
    "        tf.keras.layers.BatchNormalization(),\n",
    "\n",
    "        lq.layers.QuantConv2D(64, 3, padding=\"same\", **kwargs),\n",
    "        tf.keras.layers.Activation(\"elu\"),\n",
    "        tf.keras.layers.BatchNormalization(),\n",
    "        tf.keras.layers.MaxPool2D(pool_size=(2, 2)),\n",
    "    #     tf.keras.layers.Dropout(0.4),\n",
    "\n",
    "        lq.layers.QuantConv2D(128, 3, padding=\"same\", **kwargs),\n",
    "        tf.keras.layers.Activation(\"elu\"),\n",
    "        tf.keras.layers.BatchNormalization(),\n",
    "\n",
    "        lq.layers.QuantConv2D(128, 3, padding=\"same\", **kwargs),\n",
    "        tf.keras.layers.Activation(\"elu\"),\n",
    "        tf.keras.layers.BatchNormalization(),\n",
    "        tf.keras.layers.MaxPool2D(pool_size=(2, 2)),\n",
    "    #     tf.keras.layers.Dropout(0.4),\n",
    "\n",
    "\n",
    "        tf.keras.layers.Flatten(),\n",
    "\n",
    "        lq.layers.QuantDense(128, **kwargs),\n",
    "        tf.keras.layers.Activation(\"elu\"),\n",
    "        tf.keras.layers.BatchNormalization(),\n",
    "\n",
    "\n",
    "        lq.layers.QuantDense(10, **kwargs),\n",
    "        tf.keras.layers.BatchNormalization(),\n",
    "        tf.keras.layers.Activation(\"softmax\")\n",
    "    ])\n",
    "    \n",
    "    model.compile(loss='categorical_crossentropy',\n",
    "              optimizer='adam',\n",
    "              metrics=['accuracy'])\n",
    "    return model"
   ]
  },
  {
   "cell_type": "code",
   "execution_count": null,
   "metadata": {},
   "outputs": [],
   "source": [
    "members = []\n",
    "n = len(x_train)"
   ]
  },
  {
   "cell_type": "code",
   "execution_count": null,
   "metadata": {},
   "outputs": [],
   "source": [
    "# for i in range(8):\n",
    "#     model = get_model()\n",
    "#     idx = resample(range(n), replace=False, n_samples=n*2//3)\n",
    "#     model.fit(x_train[idx], y_train[idx], batch_size=256, epochs=100,\n",
    "#               validation_data=(x_test, y_test))\n",
    "#     members.append(model)"
   ]
  },
  {
   "cell_type": "code",
   "execution_count": null,
   "metadata": {},
   "outputs": [],
   "source": [
    "# for i, model in enumerate(members):\n",
    "#     model.save('vanilla_cifar10_bnn_{}.h5'.format(i+1))"
   ]
  },
  {
   "cell_type": "code",
   "execution_count": null,
   "metadata": {},
   "outputs": [],
   "source": [
    "for i in range(8):\n",
    "    members.append(tf.keras.models.load_model('vanilla_cifar10_bnn_{}.h5'.format(i+1)))"
   ]
  },
  {
   "cell_type": "code",
   "execution_count": null,
   "metadata": {},
   "outputs": [],
   "source": [
    "len(members)"
   ]
  },
  {
   "cell_type": "code",
   "execution_count": null,
   "metadata": {},
   "outputs": [],
   "source": [
    "def evaluate_ensamble(ensamble, x_test, y_test):\n",
    "    y_pred = [model.predict_proba(x_test) for model in ensamble]\n",
    "    a = np.mean(y_pred, axis=0)\n",
    "    return full_evaluate2(pred=a, y=y_test)"
   ]
  },
  {
   "cell_type": "code",
   "execution_count": null,
   "metadata": {},
   "outputs": [],
   "source": [
    "def measure_ensamble_size(ensamble):\n",
    "    return sum([float(lq.models.ModelProfile(model).generate_table()[-1][-3]) for model in ensamble])"
   ]
  },
  {
   "cell_type": "code",
   "execution_count": null,
   "metadata": {},
   "outputs": [],
   "source": [
    "evaluate_ensamble(members, x_test, y_test)"
   ]
  },
  {
   "cell_type": "code",
   "execution_count": null,
   "metadata": {},
   "outputs": [],
   "source": [
    "measure_ensamble_size(members)"
   ]
  },
  {
   "cell_type": "code",
   "execution_count": null,
   "metadata": {},
   "outputs": [],
   "source": [
    "results = {}"
   ]
  },
  {
   "cell_type": "code",
   "execution_count": null,
   "metadata": {},
   "outputs": [],
   "source": [
    "results['base'] = evaluate_ensamble(members, x_test, y_test)\n",
    "results['base']['size (kb)'] = measure_ensamble_size(members)"
   ]
  },
  {
   "cell_type": "code",
   "execution_count": null,
   "metadata": {},
   "outputs": [],
   "source": [
    "with open('results_bnn_bagging.json', 'r', encoding ='utf8') as json_file:\n",
    "    results = json.load(json_file)"
   ]
  },
  {
   "cell_type": "code",
   "execution_count": null,
   "metadata": {},
   "outputs": [],
   "source": [
    "results"
   ]
  },
  {
   "cell_type": "code",
   "execution_count": null,
   "metadata": {},
   "outputs": [],
   "source": []
  },
  {
   "cell_type": "markdown",
   "metadata": {},
   "source": [
    "# BNN + prunning"
   ]
  },
  {
   "cell_type": "code",
   "execution_count": null,
   "metadata": {},
   "outputs": [],
   "source": [
    "def evaluate_ensamble_pruned(ensamble, x_test, y_test):\n",
    "    y_pred = [model.predict_on_batch(x_test) for model in ensamble]\n",
    "    a = np.mean(y_pred, axis=0)\n",
    "    return full_evaluate2(pred=a, y=y_test)"
   ]
  },
  {
   "cell_type": "code",
   "execution_count": null,
   "metadata": {},
   "outputs": [],
   "source": [
    "for i in range(8):\n",
    "    try:\n",
    "        for j, model in enumerate(members):\n",
    "            members[j] = prune_model(model, 0.1, opt='adam', method='l1')\n",
    "    except:\n",
    "        break\n",
    "    for model in members:\n",
    "        idx = resample(range(n), replace=False, n_samples=n*2//3)\n",
    "        model.fit(x_train[idx], y_train[idx], batch_size=256, epochs=15,\n",
    "              validation_data=(x_test, y_test))\n",
    "    results['bnn_node_pruning_{}'.format((0.9)**(i+1))] = evaluate_ensamble_pruned(members, x_test, y_test)\n",
    "    results['bnn_node_pruning_{}'.format((0.9)**(i+1))]['size (kb)'] = measure_ensamble_size(members)\n",
    "    with open('results_bnn_bagging.json', 'w', encoding ='utf8') as json_file:\n",
    "        json.dump(results, json_file, ensure_ascii = True)"
   ]
  },
  {
   "cell_type": "code",
   "execution_count": null,
   "metadata": {},
   "outputs": [],
   "source": []
  },
  {
   "cell_type": "code",
   "execution_count": null,
   "metadata": {},
   "outputs": [],
   "source": []
  }
 ],
 "metadata": {
  "kernelspec": {
   "display_name": "iet_env_um",
   "language": "python",
   "name": "iet_env_um"
  },
  "language_info": {
   "codemirror_mode": {
    "name": "ipython",
    "version": 3
   },
   "file_extension": ".py",
   "mimetype": "text/x-python",
   "name": "python",
   "nbconvert_exporter": "python",
   "pygments_lexer": "ipython3",
   "version": "3.8.5"
  }
 },
 "nbformat": 4,
 "nbformat_minor": 2
}
