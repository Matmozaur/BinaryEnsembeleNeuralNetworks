{
 "cells": [
  {
   "cell_type": "code",
   "execution_count": null,
   "metadata": {},
   "outputs": [],
   "source": [
    "import tensorflow as tf\n",
    "from matplotlib import pyplot\n",
    "from tensorflow.keras.datasets import cifar10\n",
    "from emnist import extract_training_samples\n",
    "from tensorflow.keras import *\n",
    "from tensorflow.keras.layers import *\n",
    "from sklearn.model_selection import train_test_split\n",
    "import numpy as np\n",
    "import matplotlib.pyplot as plt\n",
    "from pprint import pprint\n",
    "import sys\n",
    "import os\n",
    "import json\n",
    "from sklearn.utils import resample\n",
    "\n",
    "sys.path.insert(1, os.path.join(sys.path[0], '../../..'))\n",
    "\n",
    "from utils import *\n",
    "# tf.compat.v1.enable_eager_execution()\n",
    "%matplotlib inline\n",
    "%config Completer.use_jedi = False\n",
    "\n",
    "tf.config.list_physical_devices('GPU')"
   ]
  },
  {
   "cell_type": "code",
   "execution_count": null,
   "metadata": {},
   "outputs": [],
   "source": [
    "(x_train, y_train), (x_test, y_test) = cifar10.load_data()\n",
    "show_dataset(x_train)"
   ]
  },
  {
   "cell_type": "code",
   "execution_count": null,
   "metadata": {},
   "outputs": [],
   "source": [
    "num_classes = 10 \n",
    "\n",
    "mean = np.mean(x_train,axis=(0, 1, 2, 3))\n",
    "std = np.std(x_train, axis=(0, 1, 2, 3))\n",
    "\n",
    "x_train = (x_train-mean)/(std+1e-7)\n",
    "x_test = (x_test-mean)/(std+1e-7)\n",
    "\n",
    "y_train = utils.to_categorical(y_train, num_classes) \n",
    "y_test = utils.to_categorical(y_test, num_classes) "
   ]
  },
  {
   "cell_type": "code",
   "execution_count": null,
   "metadata": {},
   "outputs": [],
   "source": [
    "x_train.shape"
   ]
  },
  {
   "cell_type": "code",
   "execution_count": null,
   "metadata": {},
   "outputs": [],
   "source": [
    "results = {}"
   ]
  },
  {
   "cell_type": "markdown",
   "metadata": {},
   "source": [
    "# Supernet BENN"
   ]
  },
  {
   "cell_type": "code",
   "execution_count": null,
   "metadata": {
    "scrolled": true
   },
   "outputs": [],
   "source": [
    "import tensorflow as tf\n",
    "import larq as lq\n",
    "\n",
    "kwargs = dict(input_quantizer=\"ste_sign\",\n",
    "              kernel_quantizer=\"ste_sign\",\n",
    "              kernel_constraint=\"weight_clip\",\n",
    "              use_bias=False)\n",
    " \n",
    "def get_model():    \n",
    "    model = tf.keras.models.Sequential([\n",
    "        lq.layers.QuantConv2D(32, 3,\n",
    "                              kernel_quantizer=\"ste_sign\",\n",
    "                              kernel_constraint=\"weight_clip\",\n",
    "                              use_bias=False,\n",
    "                              input_shape=(32, 32, 3)),\n",
    "        tf.keras.layers.Activation(\"elu\"),\n",
    "        tf.keras.layers.BatchNormalization(),\n",
    "\n",
    "        lq.layers.QuantConv2D(32, 3, padding=\"same\", **kwargs),\n",
    "        tf.keras.layers.Activation(\"elu\"),\n",
    "        tf.keras.layers.BatchNormalization(),\n",
    "        tf.keras.layers.MaxPool2D(pool_size=(2, 2)),\n",
    "    #     tf.keras.layers.Dropout(0.4),\n",
    "\n",
    "        lq.layers.QuantConv2D(64, 3, padding=\"same\", **kwargs),\n",
    "        tf.keras.layers.Activation(\"elu\"),\n",
    "        tf.keras.layers.BatchNormalization(),\n",
    "\n",
    "        lq.layers.QuantConv2D(64, 3, padding=\"same\", **kwargs),\n",
    "        tf.keras.layers.Activation(\"elu\"),\n",
    "        tf.keras.layers.BatchNormalization(),\n",
    "        tf.keras.layers.MaxPool2D(pool_size=(2, 2)),\n",
    "    #     tf.keras.layers.Dropout(0.4),\n",
    "\n",
    "        lq.layers.QuantConv2D(128, 3, padding=\"same\", **kwargs),\n",
    "        tf.keras.layers.Activation(\"elu\"),\n",
    "        tf.keras.layers.BatchNormalization(),\n",
    "\n",
    "        lq.layers.QuantConv2D(128, 3, padding=\"same\", **kwargs),\n",
    "        tf.keras.layers.Activation(\"elu\"),\n",
    "        tf.keras.layers.BatchNormalization(),\n",
    "        tf.keras.layers.MaxPool2D(pool_size=(2, 2)),\n",
    "    #     tf.keras.layers.Dropout(0.4),\n",
    "\n",
    "\n",
    "        tf.keras.layers.Flatten(),\n",
    "\n",
    "        lq.layers.QuantDense(128, **kwargs),\n",
    "        tf.keras.layers.Activation(\"elu\"),\n",
    "        tf.keras.layers.BatchNormalization(),\n",
    "\n",
    "\n",
    "        lq.layers.QuantDense(10, **kwargs),\n",
    "        tf.keras.layers.BatchNormalization(),\n",
    "        tf.keras.layers.Activation(\"softmax\")\n",
    "    ])\n",
    "    \n",
    "    model.compile(loss='categorical_crossentropy',\n",
    "              optimizer='adam',\n",
    "              metrics=['accuracy'])\n",
    "    return model"
   ]
  },
  {
   "cell_type": "code",
   "execution_count": null,
   "metadata": {},
   "outputs": [],
   "source": [
    "# history = model.fit(x_train, y_train, batch_size=256, epochs=150, validation_data=(x_test, y_test))"
   ]
  },
  {
   "cell_type": "code",
   "execution_count": null,
   "metadata": {},
   "outputs": [],
   "source": [
    "members = []\n",
    "n = len(x_train)"
   ]
  },
  {
   "cell_type": "code",
   "execution_count": null,
   "metadata": {},
   "outputs": [],
   "source": [
    "for i in range(8):\n",
    "    members.append(tf.keras.models.load_model('vanilla_cifar10_bnn_{}.h5'.format(i+1)))"
   ]
  },
  {
   "cell_type": "code",
   "execution_count": null,
   "metadata": {},
   "outputs": [],
   "source": [
    "from tensorflow.keras.models import Model"
   ]
  },
  {
   "cell_type": "code",
   "execution_count": null,
   "metadata": {
    "scrolled": true
   },
   "outputs": [],
   "source": [
    "# members[7].summary()"
   ]
  },
  {
   "cell_type": "code",
   "execution_count": null,
   "metadata": {},
   "outputs": [],
   "source": [
    "# model1= Model(inputs=members[0].input, outputs=members[0].get_layer('quant_dense_24').output)\n",
    "# model2= Model(inputs=members[1].input, outputs=members[1].get_layer('quant_dense_26').output)\n",
    "# model3= Model(inputs=members[2].input, outputs=members[2].get_layer('quant_dense_28').output)\n",
    "# model4= Model(inputs=members[3].input, outputs=members[3].get_layer('quant_dense_30').output)\n",
    "# model5= Model(inputs=members[4].input, outputs=members[4].get_layer('quant_dense_32').output)\n",
    "# model6= Model(inputs=members[5].input, outputs=members[5].get_layer('quant_dense_36').output)\n",
    "# model7= Model(inputs=members[6].input, outputs=members[6].get_layer('quant_dense_38').output)\n",
    "# model8= Model(inputs=members[7].input, outputs=members[7].get_layer('quant_dense_40').output)\n",
    "\n",
    "\n",
    "# model1= Model(inputs=members[0].input, outputs=members[0].get_layer('quant_dense_25').output)\n",
    "# model2= Model(inputs=members[1].input, outputs=members[1].get_layer('quant_dense_27').output)\n",
    "# model3= Model(inputs=members[2].input, outputs=members[2].get_layer('quant_dense_29').output)\n",
    "# model4= Model(inputs=members[3].input, outputs=members[3].get_layer('quant_dense_31').output)\n",
    "# model5= Model(inputs=members[4].input, outputs=members[4].get_layer('quant_dense_33').output)\n",
    "# model6= Model(inputs=members[5].input, outputs=members[5].get_layer('quant_dense_37').output)\n",
    "# model7= Model(inputs=members[6].input, outputs=members[6].get_layer('quant_dense_39').output)\n",
    "# model8= Model(inputs=members[7].input, outputs=members[7].get_layer('quant_dense_41').output)\n",
    "\n",
    "\n"
   ]
  },
  {
   "cell_type": "code",
   "execution_count": null,
   "metadata": {},
   "outputs": [],
   "source": [
    "# for i in range(len(model1.layers)):\n",
    "#     model1.layers[i].trainable = False\n",
    "#     model2.layers[i].trainable = False\n",
    "#     model3.layers[i].trainable = False\n",
    "#     model4.layers[i].trainable = False\n",
    "#     model5.layers[i].trainable = False\n",
    "#     model6.layers[i].trainable = False\n",
    "#     model7.layers[i].trainable = False\n",
    "#     model8.layers[i].trainable = False"
   ]
  },
  {
   "cell_type": "code",
   "execution_count": null,
   "metadata": {},
   "outputs": [],
   "source": [
    "# x = layers.concatenate([model1.outputs[0], model2.outputs[0], model3.outputs[0], model4.outputs[0],\n",
    "#                        model5.outputs[0], model6.outputs[0], model7.outputs[0], model8.outputs[0]])\n",
    "\n",
    "# x = layers.BatchNormalization()(x) \n",
    "# x = layers.Dropout(0.2)(x)  \n",
    "# outputs = layers.Dense(num_classes, activation='softmax')(x)  \n",
    "\n",
    "# model = Model([model1.inputs[0], model2.inputs[0], model3.inputs[0], model4.inputs[0],\n",
    "#               model5.inputs[0], model6.inputs[0], model7.inputs[0], model8.inputs[0]], outputs)\n",
    "\n",
    "# model.compile(optimizer='adam',\n",
    "#           loss='categorical_crossentropy',\n",
    "#               metrics=['accuracy'])"
   ]
  },
  {
   "cell_type": "code",
   "execution_count": null,
   "metadata": {},
   "outputs": [],
   "source": [
    "# model.summary()"
   ]
  },
  {
   "cell_type": "code",
   "execution_count": null,
   "metadata": {},
   "outputs": [],
   "source": [
    "# model = tf.keras.models.load_model('vanilla_cifar10_bnn_supernet.h5')"
   ]
  },
  {
   "cell_type": "code",
   "execution_count": null,
   "metadata": {},
   "outputs": [],
   "source": [
    "# lq.models.ModelProfile(model).generate_table()[-1][-3]"
   ]
  },
  {
   "cell_type": "code",
   "execution_count": null,
   "metadata": {},
   "outputs": [],
   "source": [
    "# model.fit([x_train, x_train, x_train, x_train, x_train, x_train, x_train, x_train],\n",
    "#           y_train, batch_size=256, epochs=100, validation_data=([x_test, x_test, x_test, x_test,\n",
    "#                                                                 x_test, x_test, x_test, x_test], y_test))"
   ]
  },
  {
   "cell_type": "code",
   "execution_count": null,
   "metadata": {},
   "outputs": [],
   "source": [
    "# model.save('vanilla_cifar10_bnn_supernet.h5')"
   ]
  },
  {
   "cell_type": "code",
   "execution_count": null,
   "metadata": {},
   "outputs": [],
   "source": [
    "# len(members)"
   ]
  },
  {
   "cell_type": "code",
   "execution_count": null,
   "metadata": {},
   "outputs": [],
   "source": [
    "# results = {}"
   ]
  },
  {
   "cell_type": "code",
   "execution_count": null,
   "metadata": {},
   "outputs": [],
   "source": [
    "# a = model.predict([x_test, x_test, x_test, x_test, x_test, x_test, x_test, x_test])\n",
    "# results['base'] = full_evaluate2(pred=a, y=y_test)\n",
    "# results['base']['size (kb)'] = lq.models.ModelProfile(model).generate_table()[-1][-3]"
   ]
  },
  {
   "cell_type": "code",
   "execution_count": null,
   "metadata": {},
   "outputs": [],
   "source": [
    "with open('results_bnn_supernet.json', 'r', encoding ='utf8') as json_file:\n",
    "    results = json.load(json_file)"
   ]
  },
  {
   "cell_type": "code",
   "execution_count": null,
   "metadata": {},
   "outputs": [],
   "source": [
    "results"
   ]
  },
  {
   "cell_type": "markdown",
   "metadata": {},
   "source": [
    "# BNN + prunning"
   ]
  },
  {
   "cell_type": "code",
   "execution_count": null,
   "metadata": {},
   "outputs": [],
   "source": [
    "def evaluate_ensamble_pruned(ensamble, x_test, y_test):\n",
    "    y_pred = [model.predict_on_batch(x_test) for model in ensamble]\n",
    "    a = np.mean(y_pred, axis=0)\n",
    "    return full_evaluate2(pred=a, y=y_test)"
   ]
  },
  {
   "cell_type": "code",
   "execution_count": null,
   "metadata": {},
   "outputs": [],
   "source": [
    "for i in range(8):\n",
    "    try:\n",
    "        for j, m in enumerate(members):\n",
    "            members[j] = prune_model(m, 0.1, opt='adam', method='l1')\n",
    "    except:\n",
    "        break\n",
    "    for j, m in enumerate(members):\n",
    "        idx = resample(range(n), replace=False, n_samples=n*2//3)\n",
    "        members[j].fit(x_train[idx], y_train[idx], batch_size=256, epochs=15,\n",
    "              validation_data=(x_test, y_test))\n",
    "    \n",
    "    model1= Model(inputs=members[0].input, outputs=members[0].get_layer('quant_dense_24').output)\n",
    "    model2= Model(inputs=members[1].input, outputs=members[1].get_layer('quant_dense_26').output)\n",
    "    model3= Model(inputs=members[2].input, outputs=members[2].get_layer('quant_dense_28').output)\n",
    "    model4= Model(inputs=members[3].input, outputs=members[3].get_layer('quant_dense_30').output)\n",
    "    model5= Model(inputs=members[4].input, outputs=members[4].get_layer('quant_dense_32').output)\n",
    "    model6= Model(inputs=members[5].input, outputs=members[5].get_layer('quant_dense_36').output)\n",
    "    model7= Model(inputs=members[6].input, outputs=members[6].get_layer('quant_dense_38').output)\n",
    "    model8= Model(inputs=members[7].input, outputs=members[7].get_layer('quant_dense_40').output)\n",
    "    \n",
    "    for j in range(len(model1.layers)):\n",
    "        model1.layers[j].trainable = False\n",
    "        model2.layers[j].trainable = False\n",
    "        model3.layers[j].trainable = False\n",
    "        model4.layers[j].trainable = False\n",
    "        model5.layers[j].trainable = False\n",
    "        model6.layers[j].trainable = False\n",
    "        model7.layers[j].trainable = False\n",
    "        model8.layers[j].trainable = False\n",
    "    \n",
    "    x = layers.concatenate([model1.outputs[0], model2.outputs[0], model3.outputs[0], model4.outputs[0],\n",
    "                       model5.outputs[0], model6.outputs[0], model7.outputs[0], model8.outputs[0]])\n",
    "    x = layers.BatchNormalization()(x) \n",
    "    x = layers.Dropout(0.2)(x)  \n",
    "    outputs = layers.Dense(num_classes, activation='softmax')(x)  \n",
    "\n",
    "    model = Model([model1.inputs[0], model2.inputs[0], model3.inputs[0], model4.inputs[0],\n",
    "                  model5.inputs[0], model6.inputs[0], model7.inputs[0], model8.inputs[0]], outputs)\n",
    "\n",
    "    model.compile(optimizer='adam',\n",
    "              loss='categorical_crossentropy',\n",
    "                  metrics=['accuracy'])\n",
    "    model.fit([x_train, x_train, x_train, x_train, x_train, x_train, x_train, x_train],\n",
    "          y_train, batch_size=256, epochs=10, validation_data=([x_test, x_test, x_test, x_test,\n",
    "                                                                x_test, x_test, x_test, x_test], y_test))\n",
    "    \n",
    "    a = model.predict([x_test, x_test, x_test, x_test, x_test, x_test, x_test, x_test])\n",
    "    results['bnn_node_pruning_{}'.format((0.9)**(i+1))] = full_evaluate2(pred=a, y=y_test)\n",
    "    results['bnn_node_pruning_{}'.format((0.9)**(i+1))]['size (kb)'] = lq.models.ModelProfile(model).generate_table()[-1][-3]\n",
    "    with open('results_bnn_supernet.json', 'w', encoding ='utf8') as json_file:\n",
    "        json.dump(results, json_file, ensure_ascii = True)"
   ]
  },
  {
   "cell_type": "code",
   "execution_count": null,
   "metadata": {},
   "outputs": [],
   "source": []
  },
  {
   "cell_type": "code",
   "execution_count": null,
   "metadata": {},
   "outputs": [],
   "source": []
  }
 ],
 "metadata": {
  "kernelspec": {
   "display_name": "iet_env_um",
   "language": "python",
   "name": "iet_env_um"
  },
  "language_info": {
   "codemirror_mode": {
    "name": "ipython",
    "version": 3
   },
   "file_extension": ".py",
   "mimetype": "text/x-python",
   "name": "python",
   "nbconvert_exporter": "python",
   "pygments_lexer": "ipython3",
   "version": "3.8.5"
  }
 },
 "nbformat": 4,
 "nbformat_minor": 2
}
